{
  "cells": [
    {
      "cell_type": "markdown",
      "metadata": {
        "id": "view-in-github",
        "colab_type": "text"
      },
      "source": [
        "<a href=\"https://colab.research.google.com/github/ritzx21/MNIST-Recognize-Handwritten-Digits/blob/main/MNIST_Handwritten_Digits_Recognition.ipynb\" target=\"_parent\"><img src=\"https://colab.research.google.com/assets/colab-badge.svg\" alt=\"Open In Colab\"/></a>"
      ]
    },
    {
      "cell_type": "code",
      "execution_count": 1,
      "metadata": {
        "id": "9G1btlbYsrWx"
      },
      "outputs": [],
      "source": [
        "import keras"
      ]
    },
    {
      "cell_type": "code",
      "execution_count": 2,
      "metadata": {
        "id": "nmd9YXFOs75r"
      },
      "outputs": [],
      "source": [
        "from keras.datasets import mnist"
      ]
    },
    {
      "cell_type": "code",
      "execution_count": 3,
      "metadata": {
        "colab": {
          "base_uri": "https://localhost:8080/"
        },
        "id": "NG__Lkqjs-mV",
        "outputId": "2aec8158-b49f-499f-d419-8f8754db5161"
      },
      "outputs": [
        {
          "output_type": "execute_result",
          "data": {
            "text/plain": [
              "<module 'keras.datasets.mnist' from '/usr/local/lib/python3.10/dist-packages/keras/datasets/mnist/__init__.py'>"
            ]
          },
          "metadata": {},
          "execution_count": 3
        }
      ],
      "source": [
        "mnist"
      ]
    },
    {
      "cell_type": "code",
      "execution_count": 4,
      "metadata": {
        "colab": {
          "base_uri": "https://localhost:8080/"
        },
        "id": "AZUnrZI3tFIl",
        "outputId": "a0df5f81-da1c-4572-f92e-2ad161584c86"
      },
      "outputs": [
        {
          "output_type": "stream",
          "name": "stdout",
          "text": [
            "Downloading data from https://storage.googleapis.com/tensorflow/tf-keras-datasets/mnist.npz\n",
            "11490434/11490434 [==============================] - 0s 0us/step\n"
          ]
        }
      ],
      "source": [
        "(x_train, y_train), (x_test, y_test) = mnist.load_data()"
      ]
    },
    {
      "cell_type": "code",
      "execution_count": 5,
      "metadata": {
        "colab": {
          "base_uri": "https://localhost:8080/"
        },
        "id": "YzlTMDeittDG",
        "outputId": "88475671-1286-4e07-aea0-fdaed41aa6a3"
      },
      "outputs": [
        {
          "output_type": "execute_result",
          "data": {
            "text/plain": [
              "(60000, 28, 28)"
            ]
          },
          "metadata": {},
          "execution_count": 5
        }
      ],
      "source": [
        "x_train.shape"
      ]
    },
    {
      "cell_type": "code",
      "execution_count": 6,
      "metadata": {
        "colab": {
          "base_uri": "https://localhost:8080/"
        },
        "id": "-RSSHPh2txbM",
        "outputId": "47a501d2-3fa0-4cf1-d083-7b8e0920a822"
      },
      "outputs": [
        {
          "output_type": "execute_result",
          "data": {
            "text/plain": [
              "(10000, 28, 28)"
            ]
          },
          "metadata": {},
          "execution_count": 6
        }
      ],
      "source": [
        "x_test.shape"
      ]
    },
    {
      "cell_type": "code",
      "execution_count": 7,
      "metadata": {
        "id": "lPLgCRGqt0Dt"
      },
      "outputs": [],
      "source": [
        "x_train = x_train.reshape(x_train.shape[0],28,28,1)\n",
        "x_test = x_test.reshape(x_test.shape[0],28,28,1)\n",
        "input_shape = (28,28,1)"
      ]
    },
    {
      "cell_type": "markdown",
      "metadata": {
        "id": "Y0P17gs-02hS"
      },
      "source": [
        "Conversion of class vectors to matrices of binary class"
      ]
    },
    {
      "cell_type": "code",
      "execution_count": 8,
      "metadata": {
        "id": "TECSGCDGPcsQ"
      },
      "outputs": [],
      "source": [
        "num_classes = 10"
      ]
    },
    {
      "cell_type": "code",
      "execution_count": 9,
      "metadata": {
        "id": "YEo8e4Xf0ywv"
      },
      "outputs": [],
      "source": [
        "y_train = keras.utils.to_categorical(y_train, num_classes)\n",
        "y_test = keras.utils.to_categorical(y_test, num_classes)"
      ]
    },
    {
      "cell_type": "code",
      "execution_count": 10,
      "metadata": {
        "id": "BSYN2YCTO13A"
      },
      "outputs": [],
      "source": [
        "x_train = x_train.astype('float32')\n",
        "x_test = x_test.astype('float32')"
      ]
    },
    {
      "cell_type": "code",
      "execution_count": 11,
      "metadata": {
        "id": "b9F6hSA4PGDr"
      },
      "outputs": [],
      "source": [
        "x_train /= 225\n",
        "x_test /= 225"
      ]
    },
    {
      "cell_type": "code",
      "execution_count": 12,
      "metadata": {
        "colab": {
          "base_uri": "https://localhost:8080/"
        },
        "id": "9HRc5gdqZwJc",
        "outputId": "403d4ba6-ab32-4199-9c4d-5d2035d4353f"
      },
      "outputs": [
        {
          "output_type": "execute_result",
          "data": {
            "text/plain": [
              "(60000, 28, 28, 1)"
            ]
          },
          "metadata": {},
          "execution_count": 12
        }
      ],
      "source": [
        "x_train.shape"
      ]
    },
    {
      "cell_type": "code",
      "execution_count": 13,
      "metadata": {
        "id": "rAj-KAh5PUYC"
      },
      "outputs": [],
      "source": [
        "from keras.models import Sequential\n",
        "from keras.layers import Dense\n",
        "from keras.layers import Flatten\n",
        "from keras.layers import Dropout\n",
        "from keras.layers import Conv2D\n",
        "from keras.layers import MaxPooling2D"
      ]
    },
    {
      "cell_type": "code",
      "execution_count": 14,
      "metadata": {
        "id": "sMJeQB5GPlVy"
      },
      "outputs": [],
      "source": [
        "batch_size = 64\n",
        "epochs = 10"
      ]
    },
    {
      "cell_type": "code",
      "execution_count": 15,
      "metadata": {
        "id": "5AkeYk3TQazv"
      },
      "outputs": [],
      "source": [
        "model = Sequential()\n",
        "model.add(Conv2D(64,kernel_size = (3,3), activation = 'relu', input_shape = input_shape))\n",
        "model.add(Conv2D(32, kernel_size = (3,3),activation = 'relu'))\n",
        "model.add(MaxPooling2D(pool_size=(2,2)))\n",
        "model.add(Dropout(0.25))\n",
        "\n",
        "model.add(Conv2D(32, kernel_size = (2,2), activation='relu'))\n",
        "model.add(MaxPooling2D(pool_size = (2,2)))\n",
        "\n",
        "model.add(Flatten())\n",
        "\n",
        "\n",
        "model.add(Dense(num_classes, activation='softmax'))\n",
        "model.compile(loss = keras.losses.categorical_crossentropy, optimizer = keras.optimizers.Adam(), metrics=['accuracy'])"
      ]
    },
    {
      "cell_type": "code",
      "execution_count": 16,
      "metadata": {
        "colab": {
          "base_uri": "https://localhost:8080/"
        },
        "id": "T3RS5BaoWo4i",
        "outputId": "4641d288-2ccf-450b-b84b-09a9b37966d2"
      },
      "outputs": [
        {
          "output_type": "stream",
          "name": "stdout",
          "text": [
            "Model: \"sequential\"\n",
            "_________________________________________________________________\n",
            " Layer (type)                Output Shape              Param #   \n",
            "=================================================================\n",
            " conv2d (Conv2D)             (None, 26, 26, 64)        640       \n",
            "                                                                 \n",
            " conv2d_1 (Conv2D)           (None, 24, 24, 32)        18464     \n",
            "                                                                 \n",
            " max_pooling2d (MaxPooling2  (None, 12, 12, 32)        0         \n",
            " D)                                                              \n",
            "                                                                 \n",
            " dropout (Dropout)           (None, 12, 12, 32)        0         \n",
            "                                                                 \n",
            " conv2d_2 (Conv2D)           (None, 11, 11, 32)        4128      \n",
            "                                                                 \n",
            " max_pooling2d_1 (MaxPoolin  (None, 5, 5, 32)          0         \n",
            " g2D)                                                            \n",
            "                                                                 \n",
            " flatten (Flatten)           (None, 800)               0         \n",
            "                                                                 \n",
            " dense (Dense)               (None, 10)                8010      \n",
            "                                                                 \n",
            "=================================================================\n",
            "Total params: 31242 (122.04 KB)\n",
            "Trainable params: 31242 (122.04 KB)\n",
            "Non-trainable params: 0 (0.00 Byte)\n",
            "_________________________________________________________________\n"
          ]
        }
      ],
      "source": [
        "model.summary()"
      ]
    },
    {
      "cell_type": "code",
      "execution_count": 17,
      "metadata": {
        "colab": {
          "base_uri": "https://localhost:8080/"
        },
        "id": "rZ2zFzprW0rH",
        "outputId": "4f5002dc-e530-465a-927a-e3e87058cdc9"
      },
      "outputs": [
        {
          "output_type": "stream",
          "name": "stdout",
          "text": [
            "Epoch 1/10\n",
            "938/938 [==============================] - 160s 169ms/step - loss: 0.2361 - accuracy: 0.9274 - val_loss: 0.0675 - val_accuracy: 0.9776\n",
            "Epoch 2/10\n",
            "938/938 [==============================] - 149s 159ms/step - loss: 0.0753 - accuracy: 0.9774 - val_loss: 0.0535 - val_accuracy: 0.9832\n",
            "Epoch 3/10\n",
            "938/938 [==============================] - 144s 153ms/step - loss: 0.0573 - accuracy: 0.9822 - val_loss: 0.0373 - val_accuracy: 0.9877\n",
            "Epoch 4/10\n",
            "938/938 [==============================] - 144s 154ms/step - loss: 0.0474 - accuracy: 0.9854 - val_loss: 0.0351 - val_accuracy: 0.9895\n",
            "Epoch 5/10\n",
            "938/938 [==============================] - 145s 154ms/step - loss: 0.0418 - accuracy: 0.9870 - val_loss: 0.0287 - val_accuracy: 0.9908\n",
            "Epoch 6/10\n",
            "938/938 [==============================] - 145s 154ms/step - loss: 0.0374 - accuracy: 0.9883 - val_loss: 0.0295 - val_accuracy: 0.9905\n",
            "Epoch 7/10\n",
            "938/938 [==============================] - 144s 153ms/step - loss: 0.0342 - accuracy: 0.9890 - val_loss: 0.0267 - val_accuracy: 0.9913\n",
            "Epoch 8/10\n",
            "938/938 [==============================] - 144s 153ms/step - loss: 0.0305 - accuracy: 0.9904 - val_loss: 0.0263 - val_accuracy: 0.9919\n",
            "Epoch 9/10\n",
            "938/938 [==============================] - 145s 154ms/step - loss: 0.0270 - accuracy: 0.9913 - val_loss: 0.0302 - val_accuracy: 0.9900\n",
            "Epoch 10/10\n",
            "938/938 [==============================] - 143s 153ms/step - loss: 0.0263 - accuracy: 0.9914 - val_loss: 0.0269 - val_accuracy: 0.9899\n"
          ]
        }
      ],
      "source": [
        "hist = model.fit(x_train , y_train , batch_size = batch_size , epochs = epochs,verbose = 1, validation_data = (x_test , y_test))"
      ]
    },
    {
      "cell_type": "code",
      "execution_count": 18,
      "metadata": {
        "colab": {
          "base_uri": "https://localhost:8080/"
        },
        "id": "HOUblx5-XfCb",
        "outputId": "dd1cb065-e948-4711-811f-50aaa14a609a"
      },
      "outputs": [
        {
          "output_type": "stream",
          "name": "stdout",
          "text": [
            "saving the bot as mnist.h5\n"
          ]
        },
        {
          "output_type": "stream",
          "name": "stderr",
          "text": [
            "/usr/local/lib/python3.10/dist-packages/keras/src/engine/training.py:3103: UserWarning: You are saving your model as an HDF5 file via `model.save()`. This file format is considered legacy. We recommend using instead the native Keras format, e.g. `model.save('my_model.keras')`.\n",
            "  saving_api.save_model(\n"
          ]
        }
      ],
      "source": [
        "model.save('mnist.h5')\n",
        "print('saving the bot as mnist.h5')"
      ]
    }
  ],
  "metadata": {
    "colab": {
      "provenance": [],
      "authorship_tag": "ABX9TyPo61LByIHUAdeKkD+f0akY",
      "include_colab_link": true
    },
    "kernelspec": {
      "display_name": "Python 3",
      "name": "python3"
    },
    "language_info": {
      "name": "python"
    }
  },
  "nbformat": 4,
  "nbformat_minor": 0
}